{
  "cells": [
    {
      "cell_type": "markdown",
      "metadata": {
        "id": "CgZgNXqy1Rka"
      },
      "source": [
        "# **Parent Document Retriver**\n",
        "\n",
        "Parent Document retriever is a technique where large documents are split into smaller pieces, called \"child chunks.\" These chunks are stored in a way that lets the system find and compare specific parts of a document with a user’s query. The large document, or \"parent,\" is still kept but is only retrieved if one of its child chunks is relevant to the query.\n",
        "\n",
        "Reference: [Parent Document Retriver](https://python.langchain.com/docs/how_to/parent_document_retriever/)"
      ]
    },
    {
      "cell_type": "markdown",
      "metadata": {},
      "source": [
        "# **📚 Notebook Summary & Step-by-Step Guide**\n",
        "\n",
        "## **🎯 What This Notebook Does**\n",
        "This notebook implements **Parent Document Retriever** - a sophisticated technique that splits documents into **small searchable chunks** (children) while preserving **large context blocks** (parents). When a small chunk matches a query, the system retrieves the entire parent document, providing richer context while maintaining precise search capabilities.\n",
        "\n",
        "## **🔧 Key Libraries & Their Roles**\n",
        "\n",
        "### **Core RAG Libraries**\n",
        "- **`langchain`** - Main orchestration with parent-child retrieval components\n",
        "- **`langchain-openai`** - OpenAI integration for embeddings and chat\n",
        "- **`chromadb`** - Vector database for child chunk storage\n",
        "- **`athina`** - RAG evaluation and monitoring framework\n",
        "\n",
        "### **Document Management**\n",
        "- **`ParentDocumentRetriever`** - Core component managing parent-child relationships\n",
        "- **`InMemoryStore`** - Storage layer for parent documents\n",
        "- **`RecursiveCharacterTextSplitter`** - Dual-level document splitting\n",
        "\n",
        "### **Vector Storage**\n",
        "- **`Chroma`** - Vector database for child chunk embeddings\n",
        "- **`OpenAIEmbeddings`** - Embedding model for semantic search\n",
        "\n",
        "## **📋 Step-by-Step Process**\n",
        "\n",
        "### **Step 1: Environment Setup**\n",
        "- Install required packages: `athina`, `chromadb`\n",
        "- Configure OpenAI and Athina API keys\n",
        "- Set up dual-storage architecture\n",
        "\n",
        "### **Step 2: Dual-Level Document Splitting**\n",
        "- **Parent Splitter**: Create large chunks (2000 characters) for context\n",
        "- **Child Splitter**: Create small chunks (400 characters) for search\n",
        "- **Purpose**: Balance search precision with context richness\n",
        "\n",
        "### **Step 3: Storage Architecture Setup**\n",
        "- **Vector Store**: Chroma database for child chunk embeddings\n",
        "- **Document Store**: InMemoryStore for parent document storage\n",
        "- **Relationship Mapping**: Link child chunks to parent documents\n",
        "\n",
        "### **Step 4: Parent Document Retriever Configuration**\n",
        "- Create `ParentDocumentRetriever` with dual storage\n",
        "- Configure parent and child splitters\n",
        "- Set up automatic parent-child relationship management\n",
        "\n",
        "### **Step 5: Retrieval Process**\n",
        "- **Search Phase**: Query matches against small child chunks\n",
        "- **Retrieval Phase**: Return corresponding large parent documents\n",
        "- **Context Assembly**: Provide rich context for response generation\n",
        "\n",
        "### **Step 6: Enhanced RAG Pipeline**\n",
        "- Integrate parent document retriever into RAG chain\n",
        "- Generate responses with enriched context from parent documents\n",
        "- Evaluate improvement in response quality and context richness\n",
        "\n",
        "## **🚀 Key Advantages of Parent Document Retrieval**\n",
        "\n",
        "### **Search Precision vs Context Richness**\n",
        "- **Small Chunks**: Enable precise matching and efficient search\n",
        "- **Large Parents**: Provide comprehensive context for generation\n",
        "- **Best of Both**: Combine accuracy with contextual depth\n",
        "\n",
        "### **Context Optimization**\n",
        "- **Avoid Truncation**: Full parent documents prevent information loss\n",
        "- **Rich Context**: More background information for better responses\n",
        "- **Semantic Continuity**: Preserve document flow and relationships\n",
        "\n",
        "### **Performance Benefits**\n",
        "- **Efficient Search**: Small chunks create focused embeddings\n",
        "- **Comprehensive Retrieval**: Parent docs provide complete context\n",
        "- **Reduced Noise**: Precise child matching reduces irrelevant content\n",
        "\n",
        "## **🏗️ Architecture Comparison**\n",
        "\n",
        "### **Traditional RAG:**\n",
        "```\n",
        "Document → Split into chunks → Embed chunks → Search chunks → Return chunks\n",
        "```\n",
        "\n",
        "### **Parent Document RAG:**\n",
        "```\n",
        "Document → Split into Parents → Split into Children → Embed Children → Search Children → Return Parents\n",
        "```\n",
        "\n",
        "## **📊 Dual-Storage System**\n",
        "\n",
        "| Component | Storage Type | Size | Purpose | Search Target |\n",
        "|-----------|-------------|------|---------|---------------|\n",
        "| **Child Chunks** | Vector DB (Chroma) | 400 chars | Search precision | ✅ Searchable |\n",
        "| **Parent Documents** | Memory Store | 2000 chars | Context richness | ❌ Retrieved only |\n",
        "\n",
        "## **🔄 Retrieval Workflow**\n",
        "\n",
        "```\n",
        "User Query → Embed Query → Search Child Chunks → Identify Matches → Retrieve Parent Docs → Generate Response\n",
        "     ↓              ↓              ↓                  ↓                    ↓\n",
        "\"What is X?\" → Vector(query) → Child[1,5,7] → Parent IDs → Parent[A,B] → Rich Answer\n",
        "```\n",
        "\n",
        "## **⚖️ Trade-off Analysis**\n",
        "\n",
        "| Aspect | Traditional Chunking | Parent Document Retrieval | Winner |\n",
        "|--------|---------------------|---------------------------|---------|\n",
        "| **Search Precision** | Good | Excellent | Parent Doc |\n",
        "| **Context Richness** | Limited | Comprehensive | Parent Doc |\n",
        "| **Storage Efficiency** | Better | More complex | Traditional |\n",
        "| **Setup Complexity** | Simple | Advanced | Traditional |\n",
        "| **Response Quality** | Good | Superior | Parent Doc |\n",
        "\n",
        "## **🎯 Use Cases & Benefits**\n",
        "\n",
        "### **Ideal Scenarios:**\n",
        "- **Long Documents**: Technical manuals, research papers, legal documents\n",
        "- **Complex Topics**: Multi-paragraph explanations needed\n",
        "- **Contextual Queries**: Questions requiring background information\n",
        "- **Domain Expertise**: Specialized knowledge requiring comprehensive context\n",
        "\n",
        "### **Key Improvements:**\n",
        "- **Reduced Context Loss**: No important information truncation\n",
        "- **Better Coherence**: Responses maintain logical flow\n",
        "- **Enhanced Accuracy**: More complete information for generation\n",
        "- **Improved User Experience**: More comprehensive and helpful answers\n",
        "\n",
        "## **💡 Learning Outcomes**\n",
        "Students will understand:\n",
        "- Advanced document chunking strategies for optimal RAG performance\n",
        "- Parent-child relationship management in retrieval systems\n",
        "- Dual-storage architecture patterns for RAG optimization\n",
        "- Trade-offs between search precision and context richness\n",
        "- Production considerations for complex document retrieval\n",
        "- Memory management in multi-level document systems\n",
        "- Performance optimization techniques for large document collections"
      ]
    },
    {
      "cell_type": "markdown",
      "metadata": {
        "id": "eAvUVSNs09wu"
      },
      "source": [
        "## **Initial Setup**"
      ]
    },
    {
      "cell_type": "code",
      "execution_count": null,
      "metadata": {
        "id": "o_ghPLog0cH4"
      },
      "outputs": [],
      "source": [
        "! pip install --q athina chromadb"
      ]
    },
    {
      "cell_type": "code",
      "execution_count": null,
      "metadata": {
        "id": "qqJOrbvt1RAd"
      },
      "outputs": [],
      "source": [
        "import os\n",
        "from google.colab import userdata\n",
        "os.environ[\"OPENAI_API_KEY\"] = userdata.get('OPENAI_API_KEY')\n",
        "os.environ['ATHINA_API_KEY'] = userdata.get('ATHINA_API_KEY')"
      ]
    },
    {
      "cell_type": "markdown",
      "metadata": {
        "id": "RK8GP6MJ1mMo"
      },
      "source": [
        "## **Indexing**"
      ]
    },
    {
      "cell_type": "code",
      "execution_count": null,
      "metadata": {
        "id": "zjR7SDSHvC1I"
      },
      "outputs": [],
      "source": [
        "# load embedding model\n",
        "from langchain_openai import OpenAIEmbeddings\n",
        "embeddings = OpenAIEmbeddings()"
      ]
    },
    {
      "cell_type": "code",
      "execution_count": null,
      "metadata": {
        "id": "SSQFfZPwvJbi"
      },
      "outputs": [],
      "source": [
        "# load data\n",
        "from langchain.document_loaders import CSVLoader\n",
        "loader = CSVLoader(\"./context.csv\")\n",
        "documents = loader.load()"
      ]
    },
    {
      "cell_type": "markdown",
      "metadata": {
        "id": "rT1Qpkr6vMUk"
      },
      "source": [
        "### **Parent Child Text Spliting**"
      ]
    },
    {
      "cell_type": "code",
      "execution_count": null,
      "metadata": {
        "id": "HE2h73vovL4H"
      },
      "outputs": [],
      "source": [
        "# split pages content\n",
        "from langchain.text_splitter import RecursiveCharacterTextSplitter\n",
        "\n",
        "# create the parent documents - The big chunks\n",
        "parent_splitter = RecursiveCharacterTextSplitter(chunk_size=2000)\n",
        "\n",
        "# create the child documents - The small chunks\n",
        "child_splitter = RecursiveCharacterTextSplitter(chunk_size=400)\n",
        "\n",
        "# The storage layer for the parent chunks\n",
        "from langchain.storage import InMemoryStore\n",
        "store = InMemoryStore()"
      ]
    },
    {
      "cell_type": "code",
      "execution_count": null,
      "metadata": {
        "id": "rUu68fgQvZpw"
      },
      "outputs": [],
      "source": [
        "from langchain.vectorstores import Chroma\n",
        "vectorstore = Chroma(collection_name=\"split_parents\", embedding_function=embeddings)"
      ]
    },
    {
      "cell_type": "markdown",
      "metadata": {
        "id": "kl6uKAG75XKU"
      },
      "source": [
        "## **Retriever**"
      ]
    },
    {
      "cell_type": "code",
      "execution_count": null,
      "metadata": {
        "id": "od7NwTTBveJN"
      },
      "outputs": [],
      "source": [
        "# create retriever\n",
        "from langchain.retrievers import ParentDocumentRetriever\n",
        "retriever = ParentDocumentRetriever(\n",
        "    vectorstore=vectorstore,\n",
        "    docstore=store,\n",
        "    child_splitter=child_splitter,\n",
        "    parent_splitter=parent_splitter,\n",
        ")"
      ]
    },
    {
      "cell_type": "code",
      "execution_count": null,
      "metadata": {
        "id": "i0r_3ynrvg_0"
      },
      "outputs": [],
      "source": [
        "# add documents to vectorstore\n",
        "retriever.add_documents(documents)"
      ]
    },
    {
      "cell_type": "markdown",
      "metadata": {
        "id": "x3s1p56DvnWO"
      },
      "source": [
        "## **RAG Chain**"
      ]
    },
    {
      "cell_type": "code",
      "execution_count": null,
      "metadata": {
        "id": "PmT_vPA4vuN6"
      },
      "outputs": [],
      "source": [
        "# create llm\n",
        "from langchain_openai import ChatOpenAI\n",
        "llm = ChatOpenAI()"
      ]
    },
    {
      "cell_type": "code",
      "execution_count": null,
      "metadata": {
        "id": "EGXrA8PNvnFB"
      },
      "outputs": [],
      "source": [
        "# create document chain\n",
        "from langchain.prompts import ChatPromptTemplate\n",
        "from langchain.schema.runnable import RunnablePassthrough\n",
        "from langchain.schema.output_parser import StrOutputParser\n",
        "\n",
        "template = \"\"\"\"\n",
        "You are a helpful assistant that answers questions based on the following context\n",
        "Context: {context}\n",
        "\n",
        "Question: {input}\n",
        "\n",
        "Answer:\n",
        "\n",
        "\"\"\"\n",
        "prompt = ChatPromptTemplate.from_template(template)\n",
        "\n",
        "# Setup RAG pipeline\n",
        "rag_chain = (\n",
        "    {\"context\": retriever,  \"input\": RunnablePassthrough()}\n",
        "    | prompt\n",
        "    | llm\n",
        "    | StrOutputParser()\n",
        ")"
      ]
    },
    {
      "cell_type": "code",
      "execution_count": null,
      "metadata": {
        "colab": {
          "base_uri": "https://localhost:8080/",
          "height": 53
        },
        "id": "kKdSj2Vdvz7c",
        "outputId": "f9703edb-4b91-40d7-eabe-728d5229bd2a"
      },
      "outputs": [
        {
          "data": {
            "application/vnd.google.colaboratory.intrinsic+json": {
              "type": "string"
            },
            "text/plain": [
              "'Nicolas Cage played the role of Ben Sanderson, the alcoholic screenwriter, and Elisabeth Shue played the role of Sera, the sex worker, in the movie \"Leaving Las Vegas.\"'"
            ]
          },
          "execution_count": 12,
          "metadata": {},
          "output_type": "execute_result"
        }
      ],
      "source": [
        "# response\n",
        "response = rag_chain.invoke(\"who played the lead roles in the movie leaving las vegas\")\n",
        "response"
      ]
    },
    {
      "cell_type": "markdown",
      "metadata": {
        "id": "dXvs0qf7wFLX"
      },
      "source": [
        "## **Preparing Data for Evaluation**"
      ]
    },
    {
      "cell_type": "code",
      "execution_count": null,
      "metadata": {
        "id": "yUDUy3HFwJ4A"
      },
      "outputs": [],
      "source": [
        "question = [\"who played the lead roles in the movie leaving las vegas\"]\n",
        "response = []\n",
        "contexts = []\n",
        "ground_truth = [\"Nicolas Cage stars as a suicidal alcoholic who has ended his personal and professional life to drink himself to death in Las Vegas .\"]\n",
        "# Inference\n",
        "for query in question:\n",
        "  response.append(rag_chain.invoke(query))\n",
        "  contexts.append([docs.page_content for docs in retriever.get_relevant_documents(query)])\n",
        "\n",
        "# To dict\n",
        "data = {\n",
        "    \"query\": question,\n",
        "    \"response\": response,\n",
        "    \"context\": contexts,\n",
        "    \"expected_response\": ground_truth\n",
        "}"
      ]
    },
    {
      "cell_type": "code",
      "execution_count": null,
      "metadata": {
        "id": "Gc5A1Qtywxi5"
      },
      "outputs": [],
      "source": [
        "# create dataset\n",
        "from datasets import Dataset\n",
        "dataset = Dataset.from_dict(data)"
      ]
    },
    {
      "cell_type": "code",
      "execution_count": null,
      "metadata": {
        "id": "fa9mopKbw0Vc"
      },
      "outputs": [],
      "source": [
        "# create dataframe\n",
        "import pandas as pd\n",
        "df = pd.DataFrame(dataset)"
      ]
    },
    {
      "cell_type": "code",
      "execution_count": null,
      "metadata": {
        "colab": {
          "base_uri": "https://localhost:8080/",
          "height": 150
        },
        "id": "G1L2EKpow2GN",
        "outputId": "ccff1986-f268-4e43-8d00-d7f152afe229"
      },
      "outputs": [
        {
          "data": {
            "application/vnd.google.colaboratory.intrinsic+json": {
              "summary": "{\n  \"name\": \"df\",\n  \"rows\": 1,\n  \"fields\": [\n    {\n      \"column\": \"query\",\n      \"properties\": {\n        \"dtype\": \"string\",\n        \"num_unique_values\": 1,\n        \"samples\": [\n          \"who played the lead roles in the movie leaving las vegas\"\n        ],\n        \"semantic_type\": \"\",\n        \"description\": \"\"\n      }\n    },\n    {\n      \"column\": \"response\",\n      \"properties\": {\n        \"dtype\": \"string\",\n        \"num_unique_values\": 1,\n        \"samples\": [\n          \"Nicolas Cage and Elisabeth Shue played the lead roles in the movie Leaving Las Vegas.\"\n        ],\n        \"semantic_type\": \"\",\n        \"description\": \"\"\n      }\n    },\n    {\n      \"column\": \"context\",\n      \"properties\": {\n        \"dtype\": \"object\",\n        \"semantic_type\": \"\",\n        \"description\": \"\"\n      }\n    },\n    {\n      \"column\": \"expected_response\",\n      \"properties\": {\n        \"dtype\": \"string\",\n        \"num_unique_values\": 1,\n        \"samples\": [\n          \"Nicolas Cage stars as a suicidal alcoholic who has ended his personal and professional life to drink himself to death in Las Vegas .\"\n        ],\n        \"semantic_type\": \"\",\n        \"description\": \"\"\n      }\n    }\n  ]\n}",
              "type": "dataframe",
              "variable_name": "df"
            },
            "text/html": [
              "\n",
              "  <div id=\"df-f45920d6-dc52-4215-b7e1-b93a382e88e4\" class=\"colab-df-container\">\n",
              "    <div>\n",
              "<style scoped>\n",
              "    .dataframe tbody tr th:only-of-type {\n",
              "        vertical-align: middle;\n",
              "    }\n",
              "\n",
              "    .dataframe tbody tr th {\n",
              "        vertical-align: top;\n",
              "    }\n",
              "\n",
              "    .dataframe thead th {\n",
              "        text-align: right;\n",
              "    }\n",
              "</style>\n",
              "<table border=\"1\" class=\"dataframe\">\n",
              "  <thead>\n",
              "    <tr style=\"text-align: right;\">\n",
              "      <th></th>\n",
              "      <th>query</th>\n",
              "      <th>response</th>\n",
              "      <th>context</th>\n",
              "      <th>expected_response</th>\n",
              "    </tr>\n",
              "  </thead>\n",
              "  <tbody>\n",
              "    <tr>\n",
              "      <th>0</th>\n",
              "      <td>who played the lead roles in the movie leaving las vegas</td>\n",
              "      <td>Nicolas Cage and Elisabeth Shue played the lead roles in the movie Leaving Las Vegas.</td>\n",
              "      <td>['Leaving Las Vegas is a 1995 American drama film written and directed by Mike Figgis and based on the semi-autobiographical 1990 novel of the same name by John O\\'Brien. Nicolas Cage stars as a suicidal alcoholic in Los Angeles who, having lost his family and been recently fired, has decided to move to Las Vegas and drink himself to death. He loads a supply of liquor and beer into his BMW and gets drunk as he drives from Los Angeles to Las Vegas. Once there, he develops a romantic relations...</td>\n",
              "      <td>Nicolas Cage stars as a suicidal alcoholic who has ended his personal and professional life to drink himself to death in Las Vegas .</td>\n",
              "    </tr>\n",
              "  </tbody>\n",
              "</table>\n",
              "</div>\n",
              "    <div class=\"colab-df-buttons\">\n",
              "\n",
              "  <div class=\"colab-df-container\">\n",
              "    <button class=\"colab-df-convert\" onclick=\"convertToInteractive('df-f45920d6-dc52-4215-b7e1-b93a382e88e4')\"\n",
              "            title=\"Convert this dataframe to an interactive table.\"\n",
              "            style=\"display:none;\">\n",
              "\n",
              "  <svg xmlns=\"http://www.w3.org/2000/svg\" height=\"24px\" viewBox=\"0 -960 960 960\">\n",
              "    <path d=\"M120-120v-720h720v720H120Zm60-500h600v-160H180v160Zm220 220h160v-160H400v160Zm0 220h160v-160H400v160ZM180-400h160v-160H180v160Zm440 0h160v-160H620v160ZM180-180h160v-160H180v160Zm440 0h160v-160H620v160Z\"/>\n",
              "  </svg>\n",
              "    </button>\n",
              "\n",
              "  <style>\n",
              "    .colab-df-container {\n",
              "      display:flex;\n",
              "      gap: 12px;\n",
              "    }\n",
              "\n",
              "    .colab-df-convert {\n",
              "      background-color: #E8F0FE;\n",
              "      border: none;\n",
              "      border-radius: 50%;\n",
              "      cursor: pointer;\n",
              "      display: none;\n",
              "      fill: #1967D2;\n",
              "      height: 32px;\n",
              "      padding: 0 0 0 0;\n",
              "      width: 32px;\n",
              "    }\n",
              "\n",
              "    .colab-df-convert:hover {\n",
              "      background-color: #E2EBFA;\n",
              "      box-shadow: 0px 1px 2px rgba(60, 64, 67, 0.3), 0px 1px 3px 1px rgba(60, 64, 67, 0.15);\n",
              "      fill: #174EA6;\n",
              "    }\n",
              "\n",
              "    .colab-df-buttons div {\n",
              "      margin-bottom: 4px;\n",
              "    }\n",
              "\n",
              "    [theme=dark] .colab-df-convert {\n",
              "      background-color: #3B4455;\n",
              "      fill: #D2E3FC;\n",
              "    }\n",
              "\n",
              "    [theme=dark] .colab-df-convert:hover {\n",
              "      background-color: #434B5C;\n",
              "      box-shadow: 0px 1px 3px 1px rgba(0, 0, 0, 0.15);\n",
              "      filter: drop-shadow(0px 1px 2px rgba(0, 0, 0, 0.3));\n",
              "      fill: #FFFFFF;\n",
              "    }\n",
              "  </style>\n",
              "\n",
              "    <script>\n",
              "      const buttonEl =\n",
              "        document.querySelector('#df-f45920d6-dc52-4215-b7e1-b93a382e88e4 button.colab-df-convert');\n",
              "      buttonEl.style.display =\n",
              "        google.colab.kernel.accessAllowed ? 'block' : 'none';\n",
              "\n",
              "      async function convertToInteractive(key) {\n",
              "        const element = document.querySelector('#df-f45920d6-dc52-4215-b7e1-b93a382e88e4');\n",
              "        const dataTable =\n",
              "          await google.colab.kernel.invokeFunction('convertToInteractive',\n",
              "                                                    [key], {});\n",
              "        if (!dataTable) return;\n",
              "\n",
              "        const docLinkHtml = 'Like what you see? Visit the ' +\n",
              "          '<a target=\"_blank\" href=https://colab.research.google.com/notebooks/data_table.ipynb>data table notebook</a>'\n",
              "          + ' to learn more about interactive tables.';\n",
              "        element.innerHTML = '';\n",
              "        dataTable['output_type'] = 'display_data';\n",
              "        await google.colab.output.renderOutput(dataTable, element);\n",
              "        const docLink = document.createElement('div');\n",
              "        docLink.innerHTML = docLinkHtml;\n",
              "        element.appendChild(docLink);\n",
              "      }\n",
              "    </script>\n",
              "  </div>\n",
              "\n",
              "\n",
              "  <div id=\"id_268b574a-d45f-4516-999f-82054e2b336c\">\n",
              "    <style>\n",
              "      .colab-df-generate {\n",
              "        background-color: #E8F0FE;\n",
              "        border: none;\n",
              "        border-radius: 50%;\n",
              "        cursor: pointer;\n",
              "        display: none;\n",
              "        fill: #1967D2;\n",
              "        height: 32px;\n",
              "        padding: 0 0 0 0;\n",
              "        width: 32px;\n",
              "      }\n",
              "\n",
              "      .colab-df-generate:hover {\n",
              "        background-color: #E2EBFA;\n",
              "        box-shadow: 0px 1px 2px rgba(60, 64, 67, 0.3), 0px 1px 3px 1px rgba(60, 64, 67, 0.15);\n",
              "        fill: #174EA6;\n",
              "      }\n",
              "\n",
              "      [theme=dark] .colab-df-generate {\n",
              "        background-color: #3B4455;\n",
              "        fill: #D2E3FC;\n",
              "      }\n",
              "\n",
              "      [theme=dark] .colab-df-generate:hover {\n",
              "        background-color: #434B5C;\n",
              "        box-shadow: 0px 1px 3px 1px rgba(0, 0, 0, 0.15);\n",
              "        filter: drop-shadow(0px 1px 2px rgba(0, 0, 0, 0.3));\n",
              "        fill: #FFFFFF;\n",
              "      }\n",
              "    </style>\n",
              "    <button class=\"colab-df-generate\" onclick=\"generateWithVariable('df')\"\n",
              "            title=\"Generate code using this dataframe.\"\n",
              "            style=\"display:none;\">\n",
              "\n",
              "  <svg xmlns=\"http://www.w3.org/2000/svg\" height=\"24px\"viewBox=\"0 0 24 24\"\n",
              "       width=\"24px\">\n",
              "    <path d=\"M7,19H8.4L18.45,9,17,7.55,7,17.6ZM5,21V16.75L18.45,3.32a2,2,0,0,1,2.83,0l1.4,1.43a1.91,1.91,0,0,1,.58,1.4,1.91,1.91,0,0,1-.58,1.4L9.25,21ZM18.45,9,17,7.55Zm-12,3A5.31,5.31,0,0,0,4.9,8.1,5.31,5.31,0,0,0,1,6.5,5.31,5.31,0,0,0,4.9,4.9,5.31,5.31,0,0,0,6.5,1,5.31,5.31,0,0,0,8.1,4.9,5.31,5.31,0,0,0,12,6.5,5.46,5.46,0,0,0,6.5,12Z\"/>\n",
              "  </svg>\n",
              "    </button>\n",
              "    <script>\n",
              "      (() => {\n",
              "      const buttonEl =\n",
              "        document.querySelector('#id_268b574a-d45f-4516-999f-82054e2b336c button.colab-df-generate');\n",
              "      buttonEl.style.display =\n",
              "        google.colab.kernel.accessAllowed ? 'block' : 'none';\n",
              "\n",
              "      buttonEl.onclick = () => {\n",
              "        google.colab.notebook.generateWithVariable('df');\n",
              "      }\n",
              "      })();\n",
              "    </script>\n",
              "  </div>\n",
              "\n",
              "    </div>\n",
              "  </div>\n"
            ],
            "text/plain": [
              "                                                      query  \\\n",
              "0  who played the lead roles in the movie leaving las vegas   \n",
              "\n",
              "                                                                                response  \\\n",
              "0  Nicolas Cage and Elisabeth Shue played the lead roles in the movie Leaving Las Vegas.   \n",
              "\n",
              "                                                                                                                                                                                                                                                                                                                                                                                                                                                                                                               context  \\\n",
              "0  ['Leaving Las Vegas is a 1995 American drama film written and directed by Mike Figgis and based on the semi-autobiographical 1990 novel of the same name by John O\\'Brien. Nicolas Cage stars as a suicidal alcoholic in Los Angeles who, having lost his family and been recently fired, has decided to move to Las Vegas and drink himself to death. He loads a supply of liquor and beer into his BMW and gets drunk as he drives from Los Angeles to Las Vegas. Once there, he develops a romantic relations...   \n",
              "\n",
              "                                                                                                                      expected_response  \n",
              "0  Nicolas Cage stars as a suicidal alcoholic who has ended his personal and professional life to drink himself to death in Las Vegas .  "
            ]
          },
          "execution_count": 25,
          "metadata": {},
          "output_type": "execute_result"
        }
      ],
      "source": [
        "df"
      ]
    },
    {
      "cell_type": "code",
      "execution_count": null,
      "metadata": {
        "id": "K8ku0-Mhw4BG"
      },
      "outputs": [],
      "source": [
        "# Convert to dictionary\n",
        "df_dict = df.to_dict(orient='records')\n",
        "\n",
        "# Convert context to list\n",
        "for record in df_dict:\n",
        "    if not isinstance(record.get('context'), list):\n",
        "        if record.get('context') is None:\n",
        "            record['context'] = []\n",
        "        else:\n",
        "            record['context'] = [record['context']]"
      ]
    },
    {
      "cell_type": "markdown",
      "metadata": {
        "id": "a9dgLw0FxBcO"
      },
      "source": [
        "## **Evaluation in Athina AI**\n",
        "\n",
        "We will use **Context Recall** eval here. It Measures the extent to which the retrieved context aligns with the expected response. Please refer to our [documentation](https://docs.athina.ai/api-reference/evals/preset-evals/overview) for further details"
      ]
    },
    {
      "cell_type": "code",
      "execution_count": null,
      "metadata": {
        "id": "YeH78_zMxA-w"
      },
      "outputs": [],
      "source": [
        "# set api keys for Athina evals\n",
        "from athina.keys import AthinaApiKey, OpenAiApiKey\n",
        "OpenAiApiKey.set_key(os.getenv('OPENAI_API_KEY'))\n",
        "AthinaApiKey.set_key(os.getenv('ATHINA_API_KEY'))"
      ]
    },
    {
      "cell_type": "code",
      "execution_count": null,
      "metadata": {
        "id": "zo415QJGxFyU"
      },
      "outputs": [],
      "source": [
        "# load dataset\n",
        "from athina.loaders import Loader\n",
        "dataset = Loader().load_dict(df_dict)"
      ]
    },
    {
      "cell_type": "code",
      "execution_count": null,
      "metadata": {
        "colab": {
          "base_uri": "https://localhost:8080/",
          "height": 375
        },
        "id": "dBXSUZGOxIer",
        "outputId": "a44496e4-e3a0-4068-dcce-64a6128136f6"
      },
      "outputs": [
        {
          "name": "stdout",
          "output_type": "stream",
          "text": [
            "evaluating with [context_recall]\n"
          ]
        },
        {
          "name": "stderr",
          "output_type": "stream",
          "text": [
            "100%|██████████| 1/1 [00:01<00:00,  1.49s/it]\n"
          ]
        },
        {
          "name": "stdout",
          "output_type": "stream",
          "text": [
            "You can view your dataset at: https://app.athina.ai/develop/3e8a5c23-5ddc-4dd3-ae9a-0790587da1f5\n"
          ]
        },
        {
          "data": {
            "application/vnd.google.colaboratory.intrinsic+json": {
              "repr_error": "Out of range float values are not JSON compliant: nan",
              "type": "dataframe"
            },
            "text/html": [
              "\n",
              "  <div id=\"df-ee7cda60-f6b5-4b95-9267-8cf0b6bfe1b0\" class=\"colab-df-container\">\n",
              "    <div>\n",
              "<style scoped>\n",
              "    .dataframe tbody tr th:only-of-type {\n",
              "        vertical-align: middle;\n",
              "    }\n",
              "\n",
              "    .dataframe tbody tr th {\n",
              "        vertical-align: top;\n",
              "    }\n",
              "\n",
              "    .dataframe thead th {\n",
              "        text-align: right;\n",
              "    }\n",
              "</style>\n",
              "<table border=\"1\" class=\"dataframe\">\n",
              "  <thead>\n",
              "    <tr style=\"text-align: right;\">\n",
              "      <th></th>\n",
              "      <th>query</th>\n",
              "      <th>context</th>\n",
              "      <th>response</th>\n",
              "      <th>expected_response</th>\n",
              "      <th>display_name</th>\n",
              "      <th>failed</th>\n",
              "      <th>grade_reason</th>\n",
              "      <th>runtime</th>\n",
              "      <th>model</th>\n",
              "      <th>ragas_context_recall</th>\n",
              "    </tr>\n",
              "  </thead>\n",
              "  <tbody>\n",
              "    <tr>\n",
              "      <th>0</th>\n",
              "      <td>who played the lead roles in the movie leaving las vegas</td>\n",
              "      <td>['Leaving Las Vegas is a 1995 American drama film written and directed by Mike Figgis and based on the semi-autobiographical 1990 novel of the same name by John O\\'Brien. Nicolas Cage stars as a suicidal alcoholic in Los Angeles who, having lost his family and been recently fired, has decided to move to Las Vegas and drink himself to death. He loads a supply of liquor and beer into his BMW and gets drunk as he drives from Los Angeles to Las Vegas. Once there, he develops a romantic relations...</td>\n",
              "      <td>Nicolas Cage and Elisabeth Shue played the lead roles in the movie Leaving Las Vegas.</td>\n",
              "      <td>Nicolas Cage stars as a suicidal alcoholic who has ended his personal and professional life to drink himself to death in Las Vegas .</td>\n",
              "      <td>Ragas Context Recall</td>\n",
              "      <td>None</td>\n",
              "      <td>Context Recall metric is calculated by dividing the number of sentences in the ground truth that can be attributed to retrieved context by the total number of sentences in the grouund truth</td>\n",
              "      <td>2316</td>\n",
              "      <td>gpt-4o</td>\n",
              "      <td>1.0</td>\n",
              "    </tr>\n",
              "  </tbody>\n",
              "</table>\n",
              "</div>\n",
              "    <div class=\"colab-df-buttons\">\n",
              "\n",
              "  <div class=\"colab-df-container\">\n",
              "    <button class=\"colab-df-convert\" onclick=\"convertToInteractive('df-ee7cda60-f6b5-4b95-9267-8cf0b6bfe1b0')\"\n",
              "            title=\"Convert this dataframe to an interactive table.\"\n",
              "            style=\"display:none;\">\n",
              "\n",
              "  <svg xmlns=\"http://www.w3.org/2000/svg\" height=\"24px\" viewBox=\"0 -960 960 960\">\n",
              "    <path d=\"M120-120v-720h720v720H120Zm60-500h600v-160H180v160Zm220 220h160v-160H400v160Zm0 220h160v-160H400v160ZM180-400h160v-160H180v160Zm440 0h160v-160H620v160ZM180-180h160v-160H180v160Zm440 0h160v-160H620v160Z\"/>\n",
              "  </svg>\n",
              "    </button>\n",
              "\n",
              "  <style>\n",
              "    .colab-df-container {\n",
              "      display:flex;\n",
              "      gap: 12px;\n",
              "    }\n",
              "\n",
              "    .colab-df-convert {\n",
              "      background-color: #E8F0FE;\n",
              "      border: none;\n",
              "      border-radius: 50%;\n",
              "      cursor: pointer;\n",
              "      display: none;\n",
              "      fill: #1967D2;\n",
              "      height: 32px;\n",
              "      padding: 0 0 0 0;\n",
              "      width: 32px;\n",
              "    }\n",
              "\n",
              "    .colab-df-convert:hover {\n",
              "      background-color: #E2EBFA;\n",
              "      box-shadow: 0px 1px 2px rgba(60, 64, 67, 0.3), 0px 1px 3px 1px rgba(60, 64, 67, 0.15);\n",
              "      fill: #174EA6;\n",
              "    }\n",
              "\n",
              "    .colab-df-buttons div {\n",
              "      margin-bottom: 4px;\n",
              "    }\n",
              "\n",
              "    [theme=dark] .colab-df-convert {\n",
              "      background-color: #3B4455;\n",
              "      fill: #D2E3FC;\n",
              "    }\n",
              "\n",
              "    [theme=dark] .colab-df-convert:hover {\n",
              "      background-color: #434B5C;\n",
              "      box-shadow: 0px 1px 3px 1px rgba(0, 0, 0, 0.15);\n",
              "      filter: drop-shadow(0px 1px 2px rgba(0, 0, 0, 0.3));\n",
              "      fill: #FFFFFF;\n",
              "    }\n",
              "  </style>\n",
              "\n",
              "    <script>\n",
              "      const buttonEl =\n",
              "        document.querySelector('#df-ee7cda60-f6b5-4b95-9267-8cf0b6bfe1b0 button.colab-df-convert');\n",
              "      buttonEl.style.display =\n",
              "        google.colab.kernel.accessAllowed ? 'block' : 'none';\n",
              "\n",
              "      async function convertToInteractive(key) {\n",
              "        const element = document.querySelector('#df-ee7cda60-f6b5-4b95-9267-8cf0b6bfe1b0');\n",
              "        const dataTable =\n",
              "          await google.colab.kernel.invokeFunction('convertToInteractive',\n",
              "                                                    [key], {});\n",
              "        if (!dataTable) return;\n",
              "\n",
              "        const docLinkHtml = 'Like what you see? Visit the ' +\n",
              "          '<a target=\"_blank\" href=https://colab.research.google.com/notebooks/data_table.ipynb>data table notebook</a>'\n",
              "          + ' to learn more about interactive tables.';\n",
              "        element.innerHTML = '';\n",
              "        dataTable['output_type'] = 'display_data';\n",
              "        await google.colab.output.renderOutput(dataTable, element);\n",
              "        const docLink = document.createElement('div');\n",
              "        docLink.innerHTML = docLinkHtml;\n",
              "        element.appendChild(docLink);\n",
              "      }\n",
              "    </script>\n",
              "  </div>\n",
              "\n",
              "\n",
              "    </div>\n",
              "  </div>\n"
            ],
            "text/plain": [
              "                                                      query  \\\n",
              "0  who played the lead roles in the movie leaving las vegas   \n",
              "\n",
              "                                                                                                                                                                                                                                                                                                                                                                                                                                                                                                               context  \\\n",
              "0  ['Leaving Las Vegas is a 1995 American drama film written and directed by Mike Figgis and based on the semi-autobiographical 1990 novel of the same name by John O\\'Brien. Nicolas Cage stars as a suicidal alcoholic in Los Angeles who, having lost his family and been recently fired, has decided to move to Las Vegas and drink himself to death. He loads a supply of liquor and beer into his BMW and gets drunk as he drives from Los Angeles to Las Vegas. Once there, he develops a romantic relations...   \n",
              "\n",
              "                                                                                response  \\\n",
              "0  Nicolas Cage and Elisabeth Shue played the lead roles in the movie Leaving Las Vegas.   \n",
              "\n",
              "                                                                                                                      expected_response  \\\n",
              "0  Nicolas Cage stars as a suicidal alcoholic who has ended his personal and professional life to drink himself to death in Las Vegas .   \n",
              "\n",
              "           display_name failed  \\\n",
              "0  Ragas Context Recall   None   \n",
              "\n",
              "                                                                                                                                                                                    grade_reason  \\\n",
              "0  Context Recall metric is calculated by dividing the number of sentences in the ground truth that can be attributed to retrieved context by the total number of sentences in the grouund truth   \n",
              "\n",
              "   runtime   model  ragas_context_recall  \n",
              "0     2316  gpt-4o                   1.0  "
            ]
          },
          "execution_count": 30,
          "metadata": {},
          "output_type": "execute_result"
        }
      ],
      "source": [
        "# evaluate\n",
        "from athina.evals import RagasContextRecall\n",
        "RagasContextRecall(model=\"gpt-4o\").run_batch(data=dataset).to_df()"
      ]
    }
  ],
  "metadata": {
    "colab": {
      "provenance": []
    },
    "kernelspec": {
      "display_name": "Python 3",
      "name": "python3"
    },
    "language_info": {
      "name": "python"
    }
  },
  "nbformat": 4,
  "nbformat_minor": 0
}
